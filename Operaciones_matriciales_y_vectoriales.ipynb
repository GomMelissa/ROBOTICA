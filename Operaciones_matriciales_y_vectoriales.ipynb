{
  "nbformat": 4,
  "nbformat_minor": 0,
  "metadata": {
    "colab": {
      "provenance": [],
      "authorship_tag": "ABX9TyMWjl2r3Mfib6MUJJfRnD1K",
      "include_colab_link": true
    },
    "kernelspec": {
      "name": "python3",
      "display_name": "Python 3"
    },
    "language_info": {
      "name": "python"
    }
  },
  "cells": [
    {
      "cell_type": "markdown",
      "metadata": {
        "id": "view-in-github",
        "colab_type": "text"
      },
      "source": [
        "<a href=\"https://colab.research.google.com/github/GomMelissa/ROBOTICA/blob/main/Operaciones_matriciales_y_vectoriales.ipynb\" target=\"_parent\"><img src=\"https://colab.research.google.com/assets/colab-badge.svg\" alt=\"Open In Colab\"/></a>"
      ]
    },
    {
      "cell_type": "code",
      "execution_count": null,
      "metadata": {
        "id": "OFU6e0izFoza"
      },
      "outputs": [],
      "source": []
    },
    {
      "cell_type": "markdown",
      "source": [
        "##Ejercicio 1: Suma de matrices\n",
        "Dadas dos matrices A y B:\n",
        "\n",
        "A = [[2, 4, 6], [1, 3, 5], [7, 9, 11]] \\\n",
        "B = [[12, 10, 8], [6, 4, 2], [0, -2, -4]]\n",
        "\n",
        "Realiza la suma de estas dos matrices y encuentra la matriz resultante *C = A + B*.\n"
      ],
      "metadata": {
        "id": "DuT9WAkfG9e0"
      }
    },
    {
      "cell_type": "code",
      "source": [
        "import numpy as np  #importamos la libreria numpy, la cual nos permite trabajar con matrices y vectores\n",
        "\n",
        "#creamos las matrices A y B con los valores dados\n",
        "A=np.array([[2,4,6], [1,3,5], [7,9,11]])\n",
        "B=np.array([[12,10,8], [6,4,2], [0,-2,-4]])\n",
        "\n",
        "#realizamos la suma de las matrices en la variable\n",
        "C= A+B\n",
        "\n",
        "#mostramos la matriz resultante\n",
        "print(\"Resultado de la suma de matrices: \")\n",
        "print(C)"
      ],
      "metadata": {
        "colab": {
          "base_uri": "https://localhost:8080/"
        },
        "id": "ESl25aW_F884",
        "outputId": "003517ea-e388-45cd-b05a-76de9f2ae766"
      },
      "execution_count": 2,
      "outputs": [
        {
          "output_type": "stream",
          "name": "stdout",
          "text": [
            "Resultado de la suma de matrices: \n",
            "[[14 14 14]\n",
            " [ 7  7  7]\n",
            " [ 7  7  7]]\n"
          ]
        }
      ]
    },
    {
      "cell_type": "markdown",
      "source": [
        "##Ejercicio 2: Multiplicación de matrices\n",
        "Dadas dos matrices A y B:\n",
        "\n",
        "A = [[2, 1], [3, 4], [5, 6]] \\\n",
        "B = [[7, 8], [9, 10]]\n",
        "\n",
        "Realiza la multiplicación de estas dos matrices y encuentra la matriz resultante *C = A * B*."
      ],
      "metadata": {
        "id": "FdJ2k0zDHLXo"
      }
    },
    {
      "cell_type": "code",
      "source": [
        "#creamos las matrices A y B con los valores dados\n",
        "A=np.array([[2,1], [3,4], [5,6]])\n",
        "B=np.array([[7,8], [9,10]])\n",
        "\n",
        "#realizamos la multiplicación de las matrices en la variable C\n",
        "C=A@B #Se utiliza el operador @ para realizar la multiplicación de matrices\n",
        "\n",
        "#mostramos la matriz resultante\n",
        "print(\"Resultado de la multiplicación de matrices: \")\n",
        "print(C)"
      ],
      "metadata": {
        "colab": {
          "base_uri": "https://localhost:8080/"
        },
        "id": "mnEFsHNuHQgf",
        "outputId": "2ca1f378-b35c-47f5-f92d-69ac8e091284"
      },
      "execution_count": 3,
      "outputs": [
        {
          "output_type": "stream",
          "name": "stdout",
          "text": [
            "Resultado de la multiplicación de matrices: \n",
            "[[ 23  26]\n",
            " [ 57  64]\n",
            " [ 89 100]]\n"
          ]
        }
      ]
    },
    {
      "cell_type": "markdown",
      "source": [
        "##Ejercicio 3: Inversión de matriz\n",
        "Dada la matriz cuadrada A:\n",
        "\n",
        "A = [[4, 7, 2], [2, 6, 8], [3, 1, 9]]\n",
        "\n",
        "Encuentra la matriz inversa de A, denotada como A^(-1)."
      ],
      "metadata": {
        "id": "CuR9gvmTHkKs"
      }
    },
    {
      "cell_type": "code",
      "source": [
        "#importamos la extension matrix de sympy para trabajar con matrices\n",
        "from sympy import Matrix\n",
        "\n",
        "#creamos la matriz A con los valores dados\n",
        "A= Matrix([[4,7,2], [2,6,8], [3,1,9]])\n",
        "\n",
        "#calculamos la inversa de la matriz A\n",
        "A_inv= A.inv() #se utiliza el método inv() para calcular la inversa de la matriz\n",
        "\n",
        "#mostramos la matriz inversa\n",
        "print(\"Resultado de la inversa de la matriz: \")\n",
        "print(A_inv)"
      ],
      "metadata": {
        "colab": {
          "base_uri": "https://localhost:8080/"
        },
        "id": "3L1-lcAXFsb3",
        "outputId": "3d46f942-0181-461f-e305-75d3f85a50cf"
      },
      "execution_count": 4,
      "outputs": [
        {
          "output_type": "stream",
          "name": "stdout",
          "text": [
            "Resultado de la inversa de la matriz: \n",
            "Matrix([[23/97, -61/194, 22/97], [3/97, 15/97, -14/97], [-8/97, 17/194, 5/97]])\n"
          ]
        }
      ]
    },
    {
      "cell_type": "markdown",
      "source": [
        "##Ejercicio 4: Resolución de sistema de ecuaciones\n",
        "Dado el sistema de ecuaciones lineales:\n",
        "\n",
        "2x + y + z = 8 \\\n",
        "3x + 5y + 2z = 21\\\n",
        "x + 2y + 4z = 11\n",
        "\n",
        "Escribe este sistema en forma matricial *AX = B*, donde X es el vector de incógnitas [x, y, z] y B es el vector de términos constantes. Luego, resuelve el sistema para encontrar X."
      ],
      "metadata": {
        "id": "8DgVxMLaH6YC"
      }
    },
    {
      "cell_type": "code",
      "source": [
        "from sympy import symbols, Eq, solve, Matrix\n",
        "\n",
        "x, y, z = symbols('x y z')\n",
        "\n",
        "# Definición del sistema de ecuaciones lineales\n",
        "eq1 = Eq(2*x + y + z, 8)\n",
        "eq2 = Eq(3*x + 5*y + 2*z, 21)\n",
        "eq3 = Eq(x + 2*y + 4*z, 11)\n",
        "\n",
        "# Representación matricial AX = B\n",
        "# Matriz de coeficientes A\n",
        "A = Matrix([[2, 1, 1], [3, 5, 2], [1, 2, 4]])\n",
        "\n",
        "# Vector de incógnitas X\n",
        "X = Matrix([x, y, z])\n",
        "\n",
        "# Vector de términos constantes B\n",
        "B = Matrix([[8], [21], [11]])\n",
        "\n",
        "print(\"Representación matricial del sistema: AX = B\")\n",
        "print(\"Matriz A:\")\n",
        "print(A)\n",
        "print(\"\\nVector X:\")\n",
        "print(X)\n",
        "print(\"\\nVector B:\")\n",
        "print(B)\n",
        "\n",
        "# Resolución del sistema para encontrar X usando la inversa de A\n",
        "# Primero calculamos la inversa de A\n",
        "A_inv = A.inv()\n",
        "\n",
        "# Luego multiplicamos la inversa de A por B para encontrar X\n",
        "sol_matrix = A_inv * B\n",
        "\n",
        "print(\"\\nSolución del sistema de ecuaciones usando matrices:\")\n",
        "print(\"Vector de incógnitas X:\")\n",
        "print(sol_matrix)\n",
        "\n",
        "# También podemos verificar la solución usando solve de sympy\n",
        "sol_sympy = solve((eq1, eq2, eq3), (x, y, z))\n",
        "print(\"\\nSolución del sistema de ecuaciones usando solve de sympy:\")\n",
        "print(sol_sympy)"
      ],
      "metadata": {
        "colab": {
          "base_uri": "https://localhost:8080/"
        },
        "id": "vq_cB0urHx0r",
        "outputId": "163defc4-2c66-4b35-c88e-9434d30b2e01"
      },
      "execution_count": 6,
      "outputs": [
        {
          "output_type": "stream",
          "name": "stdout",
          "text": [
            "Representación matricial del sistema: AX = B\n",
            "Matriz A:\n",
            "Matrix([[2, 1, 1], [3, 5, 2], [1, 2, 4]])\n",
            "\n",
            "Vector X:\n",
            "Matrix([[x], [y], [z]])\n",
            "\n",
            "Vector B:\n",
            "Matrix([[8], [21], [11]])\n",
            "\n",
            "Solución del sistema de ecuaciones usando matrices:\n",
            "Vector de incógnitas X:\n",
            "Matrix([[53/23], [56/23], [22/23]])\n",
            "\n",
            "Solución del sistema de ecuaciones usando solve de sympy:\n",
            "{x: 53/23, y: 56/23, z: 22/23}\n"
          ]
        }
      ]
    },
    {
      "cell_type": "markdown",
      "source": [
        "##Ejercicio 5: Determinante\n",
        "Dada la matriz cuadrada A:\n",
        "\n",
        "A = [[3, -2, 1], [0, 5, 4], [2, 1, 7]]\n",
        "\n",
        "Calcula el determinante de A."
      ],
      "metadata": {
        "id": "Gf99SmuIIsTy"
      }
    },
    {
      "cell_type": "code",
      "source": [
        "#creamos la matriz A con los valores dados\n",
        "A= Matrix([[3,-2,1], [0,5,4], [2,1,7]])\n",
        "\n",
        "#calculamos el determinante de la matriz A\n",
        "det= A.det()\n",
        "\n",
        "#mostramos el determinante\n",
        "print(\"Determinante de la matriz: \")\n",
        "print(det)"
      ],
      "metadata": {
        "colab": {
          "base_uri": "https://localhost:8080/"
        },
        "id": "-SzExVU1IIf2",
        "outputId": "ff6572e1-bd43-462d-c30e-2ecb1c8e5f26"
      },
      "execution_count": 7,
      "outputs": [
        {
          "output_type": "stream",
          "name": "stdout",
          "text": [
            "Determinante de la matriz: \n",
            "67\n"
          ]
        }
      ]
    },
    {
      "cell_type": "markdown",
      "source": [
        "##Ejercicio 6: Producto Cruz\n",
        "Dados dos vectores A y B en el espacio tridimensional:\n",
        "\n",
        "A = [2, 3, -1]\\\n",
        "B = [1, -2, 4]\n",
        "\n",
        "Calcula el producto cruz entre A y B, denotado como *A x B*."
      ],
      "metadata": {
        "id": "LmnMbp8ZJAMq"
      }
    },
    {
      "cell_type": "code",
      "source": [
        "#importamos la libreria numpy para trabajar con matrices y vectores\n",
        "import numpy as np\n",
        "\n",
        "#creamos los vectores A y B con los valores dados\n",
        "A = np.array([2, 3, -1])\n",
        "B = np.array([1, -2, 4])\n",
        "\n",
        "#calculamos el producto cruz entre los vectores A y B\n",
        "C = np.cross(A, B)\n",
        "\n",
        "#mostramos el resultado\n",
        "print(\"Resultado del producto cruz:\")\n",
        "print(C)"
      ],
      "metadata": {
        "colab": {
          "base_uri": "https://localhost:8080/"
        },
        "id": "cbxyiu2FI_Bd",
        "outputId": "b0d5ad4b-1a3a-4d9a-d8de-01ceb873305c"
      },
      "execution_count": 8,
      "outputs": [
        {
          "output_type": "stream",
          "name": "stdout",
          "text": [
            "Resultado del producto cruz:\n",
            "[10 -9 -7]\n"
          ]
        }
      ]
    },
    {
      "cell_type": "markdown",
      "source": [
        "##Ejercicio 7: Proyección ortogonal\n",
        "Dado un vector V = [5, -3, 2] y un vector U = [2, 1, 2], encuentra la proyección ortogonal de V sobre U.\n"
      ],
      "metadata": {
        "id": "FCStPpUDJSMt"
      }
    },
    {
      "cell_type": "code",
      "source": [
        "#creamos los vectores V y U con los valores dados\n",
        "V=np.array([5,-3,2])\n",
        "U=np.array([2,1,2])\n",
        "\n",
        "#calculamos la proyección ortogonal de V sobre U\n",
        "proyeccion = np.dot(V, U) / np.dot(U, U) * U\n",
        "\n",
        "#mostramos el resultado\n",
        "print(\"Resultado de la proyección ortogonal: \")\n",
        "print(proyeccion)"
      ],
      "metadata": {
        "colab": {
          "base_uri": "https://localhost:8080/"
        },
        "id": "DYYzB9dvJQ6B",
        "outputId": "ffa309ef-63e6-448f-c06e-f6ad6168b372"
      },
      "execution_count": 9,
      "outputs": [
        {
          "output_type": "stream",
          "name": "stdout",
          "text": [
            "Resultado de la proyección ortogonal: \n",
            "[2.44444444 1.22222222 2.44444444]\n"
          ]
        }
      ]
    },
    {
      "cell_type": "markdown",
      "source": [
        "##Ejercicio 8: Producto escalar de proyecciones\n",
        "Supongamos que tienes tres vectores\n",
        "V = [3, -1, 2], U = [2, 2, -1], y W = [1, 4, -2]\\ Encuentra el producto escalar de la proyección de V sobre U con la proyección de V sobre W."
      ],
      "metadata": {
        "id": "cWsz0RcAJpy3"
      }
    },
    {
      "cell_type": "code",
      "source": [
        "#creamos los vectores V, U y W con los valores dados\n",
        "V=np.array([3,-1,2])\n",
        "U=np.array([2,2,-1])\n",
        "W=np.array([1,4,-2])\n",
        "\n",
        "#calculamos la proyección de V sobre U y W\n",
        "proyeccion1 = np.dot(V, U) / np.dot(U, U) * U\n",
        "proyeccion2 = np.dot(V, W) / np.dot(W, W) * W\n",
        "\n",
        "#calculamos el producto escalar de las proyecciones\n",
        "producto_escalar = np.dot(proyeccion1, proyeccion2)\n",
        "\n",
        "#mostramos el resultado\n",
        "print(\"Resultado del producto escalar de proyecciones: \")\n",
        "print(producto_escalar)"
      ],
      "metadata": {
        "colab": {
          "base_uri": "https://localhost:8080/"
        },
        "id": "Syl0YXPbJm19",
        "outputId": "af490d2a-5394-4b0e-f12b-b3903ef7e01e"
      },
      "execution_count": 10,
      "outputs": [
        {
          "output_type": "stream",
          "name": "stdout",
          "text": [
            "Resultado del producto escalar de proyecciones: \n",
            "-0.6349206349206349\n"
          ]
        }
      ]
    },
    {
      "cell_type": "markdown",
      "source": [
        "##Ejercicio 9: Ortogonalización Gram-Schmidt\n",
        "Dado un conjunto de vectores linealmente independientes:\n",
        "\n",
        "v1 = [1, 1, 0]\\\n",
        "v2 = [1, 2, 1]\\\n",
        "v3 = [2, 1, 3]\n",
        "\n",
        "Aplica el proceso de ortogonalización de Gram-Schmidt para obtener un conjunto ortogonal equivalente a los vectores originales."
      ],
      "metadata": {
        "id": "EFiPjGhLKFsN"
      }
    },
    {
      "cell_type": "code",
      "source": [
        "import numpy as np\n",
        "\n",
        "# Define la función para el proceso de Gram-Schmidt\n",
        "def gram_schmidt(vectores):\n",
        "    ortogonales = [] # Lista para almacenar los vectores ortogonales\n",
        "    for v in vectores:\n",
        "        v_ortho = v # Inicializa el vector ortogonal con el vector original\n",
        "        # Resta la proyección de v_ortho sobre cada vector ortogonal ya encontrado\n",
        "        for u in ortogonales:\n",
        "            v_ortho = v_ortho - (np.dot(v_ortho, u) / np.dot(u, u)) * u\n",
        "        ortogonales.append(v_ortho) # Añade el vector ortogonal a la lista\n",
        "    return ortogonales\n",
        "\n",
        "# Define los vectores de entrada\n",
        "v1 = np.array([1, 1, 0], dtype=float)\n",
        "v2 = np.array([1, 2, 1], dtype=float)\n",
        "v3 = np.array([2, 1, 3], dtype=float)\n",
        "\n",
        "# Aplica el proceso de Gram-Schmidt a los vectores\n",
        "resultado = gram_schmidt([v1, v2, v3])\n",
        "\n",
        "# Muestra los vectores ortogonales resultantes\n",
        "print(\"Vectores ortogonales:\")\n",
        "for v in resultado:\n",
        "    print(v)"
      ],
      "metadata": {
        "colab": {
          "base_uri": "https://localhost:8080/"
        },
        "id": "fohryWU_KCVf",
        "outputId": "cf49cccb-65a6-47b8-b215-02cf2d4b9590"
      },
      "execution_count": 12,
      "outputs": [
        {
          "output_type": "stream",
          "name": "stdout",
          "text": [
            "Vectores ortogonales:\n",
            "[1. 1. 0.]\n",
            "[-0.5  0.5  1. ]\n",
            "[ 1.33333333 -1.33333333  1.33333333]\n"
          ]
        }
      ]
    },
    {
      "cell_type": "markdown",
      "source": [
        "##Ejercicio 10: Espacio nulo\n",
        "Dada una matriz A en forma escalonada reducida por filas:\n",
        "\n",
        "A = [[1, 2, 0, 3], [0, 1, 0, 2], [0, 0, 1, 1]]\n",
        "\n",
        "Encuentra una base para el espacio nulo de A, es decir, los vectores que satisfacen Av = 0, donde v es un vector columna."
      ],
      "metadata": {
        "id": "B8_xY4zqLPTu"
      }
    },
    {
      "cell_type": "code",
      "source": [
        "# Definimos la matriz A en forma escalonada reducida por filas\n",
        "A = Matrix([[1, 2, 0, 3], [0, 1, 0, 2], [0, 0, 1, 1]])\n",
        "\n",
        "# Calculamos el espacio nulo de la matriz A\n",
        "# El espacio nulo (kernel) de una matriz A es el conjunto de todos los vectores v\n",
        "# para los cuales Av = 0.\n",
        "nulo = A.nullspace()\n",
        "\n",
        "# Mostramos una base para el espacio nulo\n",
        "print(\"Espacio nulo de la matriz: \")\n",
        "print(nulo)"
      ],
      "metadata": {
        "colab": {
          "base_uri": "https://localhost:8080/"
        },
        "id": "sKUfMA9dLKiT",
        "outputId": "4ad40c44-1aa0-4b87-c7d0-a4fec720dd8e"
      },
      "execution_count": 12,
      "outputs": [
        {
          "output_type": "stream",
          "name": "stdout",
          "text": [
            "Espacio nulo de la matriz: \n",
            "[Matrix([\n",
            "[ 1],\n",
            "[-2],\n",
            "[-1],\n",
            "[ 1]])]\n"
          ]
        }
      ]
    },
    {
      "cell_type": "code",
      "source": [],
      "metadata": {
        "id": "BJB7WgNwLmNs"
      },
      "execution_count": null,
      "outputs": []
    }
  ]
}